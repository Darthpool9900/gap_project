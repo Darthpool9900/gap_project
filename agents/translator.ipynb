{
 "cells": [
  {
   "cell_type": "code",
   "execution_count": null,
   "id": "f497302b",
   "metadata": {},
   "outputs": [],
   "source": [
    "!pip install fastapi uvicorn[standard] ollama nest_asyncio\n",
    "!pip install uvicorn[standard]\n",
    "!pip install requests\n",
    "\n"
   ]
  },
  {
   "cell_type": "code",
   "execution_count": 4,
   "id": "65b8a19c",
   "metadata": {},
   "outputs": [
    {
     "name": "stdout",
     "output_type": "stream",
     "text": [
      "Collecting requests\n",
      "  Using cached requests-2.32.4-py3-none-any.whl (64 kB)\n",
      "Collecting charset_normalizer<4,>=2\n",
      "  Using cached charset_normalizer-3.4.2-cp311-cp311-win_amd64.whl (105 kB)\n",
      "Requirement already satisfied: idna<4,>=2.5 in c:\\users\\rafa\\appdata\\local\\programs\\python\\python311\\lib\\site-packages (from requests) (3.10)\n",
      "Collecting urllib3<3,>=1.21.1\n",
      "  Using cached urllib3-2.5.0-py3-none-any.whl (129 kB)\n",
      "Requirement already satisfied: certifi>=2017.4.17 in c:\\users\\rafa\\appdata\\local\\programs\\python\\python311\\lib\\site-packages (from requests) (2025.7.14)\n",
      "Installing collected packages: urllib3, charset_normalizer, requests\n",
      "Successfully installed charset_normalizer-3.4.2 requests-2.32.4 urllib3-2.5.0\n"
     ]
    },
    {
     "name": "stderr",
     "output_type": "stream",
     "text": [
      "\n",
      "[notice] A new release of pip available: 22.3 -> 25.1.1\n",
      "[notice] To update, run: python.exe -m pip install --upgrade pip\n"
     ]
    }
   ],
   "source": [
    "import sys\n",
    "!{sys.executable} -m pip install requests\n"
   ]
  },
  {
   "cell_type": "code",
   "execution_count": null,
   "id": "5cc323c9",
   "metadata": {},
   "outputs": [
    {
     "name": "stderr",
     "output_type": "stream",
     "text": [
      "INFO:     Started server process [28452]\n",
      "INFO:     Waiting for application startup.\n",
      "INFO:     Application startup complete.\n",
      "INFO:     Uvicorn running on http://0.0.0.0:8000 (Press CTRL+C to quit)\n"
     ]
    },
    {
     "name": "stdout",
     "output_type": "stream",
     "text": [
      "INFO:     127.0.0.1:56681 - \"POST /traduzir HTTP/1.1\" 200 OK\n"
     ]
    }
   ],
   "source": [
    "from fastapi import FastAPI\n",
    "from pydantic import BaseModel\n",
    "from fastapi.middleware.cors import CORSMiddleware\n",
    "import requests\n",
    "import nest_asyncio\n",
    "import uvicorn\n",
    "\n",
    "nest_asyncio.apply()\n",
    "\n",
    "app = FastAPI()\n",
    "\n",
    "# Configurar CORS\n",
    "app.add_middleware(\n",
    "    CORSMiddleware,\n",
    "    allow_origins=[\"*\"],  # Permite qualquer origem. Troque por seu frontend se quiser restringir.\n",
    "    allow_credentials=True,\n",
    "    allow_methods=[\"*\"],\n",
    "    allow_headers=[\"*\"],\n",
    ")\n",
    "\n",
    "# Modelo da requisição\n",
    "class TraducaoRequest(BaseModel):\n",
    "    texto: str\n",
    "\n",
    "@app.post(\"/traduzir\")\n",
    "def traduzir(req: TraducaoRequest):\n",
    "    prompt = f\"Traduza o seguinte texto do inglês para o português:\\n\\n\\\"{req.texto}\\\"\"\n",
    "\n",
    "    try:\n",
    "        resposta = requests.post(\n",
    "    \"http://localhost:11434/api/chat\",\n",
    "    json={\n",
    "        \"model\": \"gemma3\",\n",
    "        \"messages\": [\n",
    "            {\"role\": \"user\", \"content\": prompt}\n",
    "        ],\n",
    "        \"stream\": False\n",
    "    },\n",
    ")\n",
    "\n",
    "\n",
    "        data = resposta.json()\n",
    "        return {\"traducao\": data.get(\"message\", {}).get(\"content\", \"Erro ao gerar tradução.\")}\n",
    "    except Exception as e:\n",
    "        return {\"traducao\": f\"Erro ao conectar com o Ollama: {str(e)}\"}\n",
    "\n",
    "# Execução local\n",
    "if __name__ == \"__main__\":\n",
    "    uvicorn.run(app, host=\"0.0.0.0\", port=8000)\n"
   ]
  }
 ],
 "metadata": {
  "kernelspec": {
   "display_name": "Python 3",
   "language": "python",
   "name": "python3"
  },
  "language_info": {
   "codemirror_mode": {
    "name": "ipython",
    "version": 3
   },
   "file_extension": ".py",
   "mimetype": "text/x-python",
   "name": "python",
   "nbconvert_exporter": "python",
   "pygments_lexer": "ipython3",
   "version": "3.11.0"
  }
 },
 "nbformat": 4,
 "nbformat_minor": 5
}
